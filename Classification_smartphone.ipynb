{
 "cells": [
  {
   "cell_type": "code",
   "execution_count": 1,
   "metadata": {},
   "outputs": [],
   "source": [
    "import pandas as pd"
   ]
  },
  {
   "cell_type": "code",
   "execution_count": 4,
   "metadata": {},
   "outputs": [
    {
     "data": {
      "text/html": [
       "<div>\n",
       "<style scoped>\n",
       "    .dataframe tbody tr th:only-of-type {\n",
       "        vertical-align: middle;\n",
       "    }\n",
       "\n",
       "    .dataframe tbody tr th {\n",
       "        vertical-align: top;\n",
       "    }\n",
       "\n",
       "    .dataframe thead th {\n",
       "        text-align: right;\n",
       "    }\n",
       "</style>\n",
       "<table border=\"1\" class=\"dataframe\">\n",
       "  <thead>\n",
       "    <tr style=\"text-align: right;\">\n",
       "      <th></th>\n",
       "      <th>feature_1</th>\n",
       "      <th>feature_2</th>\n",
       "      <th>feature_3</th>\n",
       "      <th>feature_4</th>\n",
       "      <th>feature_5</th>\n",
       "      <th>feature_6</th>\n",
       "      <th>feature_7</th>\n",
       "      <th>feature_8</th>\n",
       "      <th>feature_9</th>\n",
       "      <th>feature_10</th>\n",
       "      <th>...</th>\n",
       "      <th>feature_553</th>\n",
       "      <th>feature_554</th>\n",
       "      <th>feature_555</th>\n",
       "      <th>feature_556</th>\n",
       "      <th>feature_557</th>\n",
       "      <th>feature_558</th>\n",
       "      <th>feature_559</th>\n",
       "      <th>feature_560</th>\n",
       "      <th>feature_561</th>\n",
       "      <th>activity</th>\n",
       "    </tr>\n",
       "  </thead>\n",
       "  <tbody>\n",
       "    <tr>\n",
       "      <th>0</th>\n",
       "      <td>0.289</td>\n",
       "      <td>-0.0203</td>\n",
       "      <td>-0.133</td>\n",
       "      <td>-0.995</td>\n",
       "      <td>-0.983</td>\n",
       "      <td>-0.914</td>\n",
       "      <td>-0.995</td>\n",
       "      <td>-0.983</td>\n",
       "      <td>-0.924</td>\n",
       "      <td>-0.935</td>\n",
       "      <td>...</td>\n",
       "      <td>-0.299</td>\n",
       "      <td>-0.710</td>\n",
       "      <td>-0.1130</td>\n",
       "      <td>0.03040</td>\n",
       "      <td>-0.465</td>\n",
       "      <td>-0.0184</td>\n",
       "      <td>-0.841</td>\n",
       "      <td>0.180</td>\n",
       "      <td>-0.0586</td>\n",
       "      <td>5</td>\n",
       "    </tr>\n",
       "    <tr>\n",
       "      <th>1</th>\n",
       "      <td>0.278</td>\n",
       "      <td>-0.0164</td>\n",
       "      <td>-0.124</td>\n",
       "      <td>-0.998</td>\n",
       "      <td>-0.975</td>\n",
       "      <td>-0.960</td>\n",
       "      <td>-0.999</td>\n",
       "      <td>-0.975</td>\n",
       "      <td>-0.958</td>\n",
       "      <td>-0.943</td>\n",
       "      <td>...</td>\n",
       "      <td>-0.595</td>\n",
       "      <td>-0.861</td>\n",
       "      <td>0.0535</td>\n",
       "      <td>-0.00743</td>\n",
       "      <td>-0.733</td>\n",
       "      <td>0.7040</td>\n",
       "      <td>-0.845</td>\n",
       "      <td>0.180</td>\n",
       "      <td>-0.0543</td>\n",
       "      <td>5</td>\n",
       "    </tr>\n",
       "    <tr>\n",
       "      <th>2</th>\n",
       "      <td>0.280</td>\n",
       "      <td>-0.0195</td>\n",
       "      <td>-0.113</td>\n",
       "      <td>-0.995</td>\n",
       "      <td>-0.967</td>\n",
       "      <td>-0.979</td>\n",
       "      <td>-0.997</td>\n",
       "      <td>-0.964</td>\n",
       "      <td>-0.977</td>\n",
       "      <td>-0.939</td>\n",
       "      <td>...</td>\n",
       "      <td>-0.391</td>\n",
       "      <td>-0.760</td>\n",
       "      <td>-0.1190</td>\n",
       "      <td>0.17800</td>\n",
       "      <td>0.101</td>\n",
       "      <td>0.8090</td>\n",
       "      <td>-0.849</td>\n",
       "      <td>0.181</td>\n",
       "      <td>-0.0491</td>\n",
       "      <td>5</td>\n",
       "    </tr>\n",
       "  </tbody>\n",
       "</table>\n",
       "<p>3 rows × 562 columns</p>\n",
       "</div>"
      ],
      "text/plain": [
       "   feature_1  feature_2  feature_3  feature_4  feature_5  feature_6  \\\n",
       "0      0.289    -0.0203     -0.133     -0.995     -0.983     -0.914   \n",
       "1      0.278    -0.0164     -0.124     -0.998     -0.975     -0.960   \n",
       "2      0.280    -0.0195     -0.113     -0.995     -0.967     -0.979   \n",
       "\n",
       "   feature_7  feature_8  feature_9  feature_10  ...  feature_553  feature_554  \\\n",
       "0     -0.995     -0.983     -0.924      -0.935  ...       -0.299       -0.710   \n",
       "1     -0.999     -0.975     -0.958      -0.943  ...       -0.595       -0.861   \n",
       "2     -0.997     -0.964     -0.977      -0.939  ...       -0.391       -0.760   \n",
       "\n",
       "   feature_555  feature_556  feature_557  feature_558  feature_559  \\\n",
       "0      -0.1130      0.03040       -0.465      -0.0184       -0.841   \n",
       "1       0.0535     -0.00743       -0.733       0.7040       -0.845   \n",
       "2      -0.1190      0.17800        0.101       0.8090       -0.849   \n",
       "\n",
       "   feature_560  feature_561  activity  \n",
       "0        0.180      -0.0586         5  \n",
       "1        0.180      -0.0543         5  \n",
       "2        0.181      -0.0491         5  \n",
       "\n",
       "[3 rows x 562 columns]"
      ]
     },
     "execution_count": 4,
     "metadata": {},
     "output_type": "execute_result"
    }
   ],
   "source": [
    "df = pd.read_csv('smartphone_activity_dataset.csv')\n",
    "df.head(3)"
   ]
  },
  {
   "cell_type": "code",
   "execution_count": 5,
   "metadata": {},
   "outputs": [
    {
     "name": "stdout",
     "output_type": "stream",
     "text": [
      "<class 'pandas.core.frame.DataFrame'>\n",
      "RangeIndex: 10299 entries, 0 to 10298\n",
      "Columns: 562 entries, feature_1 to activity\n",
      "dtypes: float64(561), int64(1)\n",
      "memory usage: 44.2 MB\n"
     ]
    }
   ],
   "source": [
    "df.info()"
   ]
  },
  {
   "cell_type": "code",
   "execution_count": 8,
   "metadata": {},
   "outputs": [
    {
     "data": {
      "text/plain": [
       "Index(['feature_1', 'feature_2', 'feature_3', 'feature_4', 'feature_5',\n",
       "       'feature_6', 'feature_7', 'feature_8', 'feature_9', 'feature_10',\n",
       "       ...\n",
       "       'feature_553', 'feature_554', 'feature_555', 'feature_556',\n",
       "       'feature_557', 'feature_558', 'feature_559', 'feature_560',\n",
       "       'feature_561', 'activity'],\n",
       "      dtype='object', length=562)"
      ]
     },
     "execution_count": 8,
     "metadata": {},
     "output_type": "execute_result"
    }
   ],
   "source": [
    "df.keys()"
   ]
  },
  {
   "cell_type": "code",
   "execution_count": 11,
   "metadata": {},
   "outputs": [],
   "source": [
    "X = df.iloc[:,0:561].values\n",
    "y = df.iloc[:,-1].values"
   ]
  },
  {
   "cell_type": "code",
   "execution_count": 12,
   "metadata": {},
   "outputs": [],
   "source": [
    "from sklearn.model_selection import train_test_split\n",
    "from sklearn.linear_model import LogisticRegression"
   ]
  },
  {
   "cell_type": "code",
   "execution_count": 13,
   "metadata": {},
   "outputs": [],
   "source": [
    "X_train, X_test, y_train, y_test = train_test_split(X, y, test_size=0.2, random_state=33)"
   ]
  },
  {
   "cell_type": "code",
   "execution_count": 14,
   "metadata": {},
   "outputs": [],
   "source": [
    "lrr = LogisticRegression()"
   ]
  },
  {
   "cell_type": "code",
   "execution_count": 15,
   "metadata": {},
   "outputs": [
    {
     "name": "stderr",
     "output_type": "stream",
     "text": [
      "C:\\Users\\tirum\\Anaconda3\\lib\\site-packages\\sklearn\\linear_model\\logistic.py:432: FutureWarning: Default solver will be changed to 'lbfgs' in 0.22. Specify a solver to silence this warning.\n",
      "  FutureWarning)\n",
      "C:\\Users\\tirum\\Anaconda3\\lib\\site-packages\\sklearn\\linear_model\\logistic.py:469: FutureWarning: Default multi_class will be changed to 'auto' in 0.22. Specify the multi_class option to silence this warning.\n",
      "  \"this warning.\", FutureWarning)\n"
     ]
    },
    {
     "data": {
      "text/plain": [
       "LogisticRegression(C=1.0, class_weight=None, dual=False, fit_intercept=True,\n",
       "                   intercept_scaling=1, l1_ratio=None, max_iter=100,\n",
       "                   multi_class='warn', n_jobs=None, penalty='l2',\n",
       "                   random_state=None, solver='warn', tol=0.0001, verbose=0,\n",
       "                   warm_start=False)"
      ]
     },
     "execution_count": 15,
     "metadata": {},
     "output_type": "execute_result"
    }
   ],
   "source": [
    "lrr.fit(X_train,y_train)"
   ]
  },
  {
   "cell_type": "code",
   "execution_count": 16,
   "metadata": {},
   "outputs": [],
   "source": [
    "y_pred = lrr.predict(X_test)"
   ]
  },
  {
   "cell_type": "code",
   "execution_count": 20,
   "metadata": {},
   "outputs": [
    {
     "data": {
      "text/plain": [
       "4"
      ]
     },
     "execution_count": 20,
     "metadata": {},
     "output_type": "execute_result"
    }
   ],
   "source": [
    "y_pred[10]"
   ]
  },
  {
   "cell_type": "code",
   "execution_count": 19,
   "metadata": {},
   "outputs": [
    {
     "data": {
      "text/plain": [
       "4"
      ]
     },
     "execution_count": 19,
     "metadata": {},
     "output_type": "execute_result"
    }
   ],
   "source": [
    "y_test[10]"
   ]
  },
  {
   "cell_type": "code",
   "execution_count": 21,
   "metadata": {},
   "outputs": [
    {
     "data": {
      "text/plain": [
       "0.9810679611650486"
      ]
     },
     "execution_count": 21,
     "metadata": {},
     "output_type": "execute_result"
    }
   ],
   "source": [
    "lrr.score(X_test,y_test)"
   ]
  },
  {
   "cell_type": "code",
   "execution_count": 22,
   "metadata": {},
   "outputs": [],
   "source": [
    "from sklearn.metrics import r2_score,classification_report"
   ]
  },
  {
   "cell_type": "code",
   "execution_count": 23,
   "metadata": {},
   "outputs": [
    {
     "name": "stdout",
     "output_type": "stream",
     "text": [
      "0.9933225134176807\n",
      "              precision    recall  f1-score   support\n",
      "\n",
      "           1       0.99      1.00      1.00       328\n",
      "           2       1.00      1.00      1.00       300\n",
      "           3       1.00      1.00      1.00       279\n",
      "           4       0.94      0.96      0.95       360\n",
      "           5       0.96      0.94      0.95       370\n",
      "           6       1.00      1.00      1.00       423\n",
      "\n",
      "    accuracy                           0.98      2060\n",
      "   macro avg       0.98      0.98      0.98      2060\n",
      "weighted avg       0.98      0.98      0.98      2060\n",
      "\n"
     ]
    }
   ],
   "source": [
    "print(r2_score(y_test,y_pred))\n",
    "print(classification_report(y_test,y_pred))"
   ]
  },
  {
   "cell_type": "code",
   "execution_count": null,
   "metadata": {},
   "outputs": [],
   "source": []
  }
 ],
 "metadata": {
  "kernelspec": {
   "display_name": "Python 3",
   "language": "python",
   "name": "python3"
  },
  "language_info": {
   "codemirror_mode": {
    "name": "ipython",
    "version": 3
   },
   "file_extension": ".py",
   "mimetype": "text/x-python",
   "name": "python",
   "nbconvert_exporter": "python",
   "pygments_lexer": "ipython3",
   "version": "3.7.3"
  }
 },
 "nbformat": 4,
 "nbformat_minor": 2
}
